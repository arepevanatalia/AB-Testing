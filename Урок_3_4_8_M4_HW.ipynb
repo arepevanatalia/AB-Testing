{
  "cells": [
    {
      "cell_type": "markdown",
      "metadata": {
        "id": "view-in-github",
        "colab_type": "text"
      },
      "source": [
        "<a href=\"https://colab.research.google.com/github/arepevanatalia/AB-Testing/blob/main/%D0%A3%D1%80%D0%BE%D0%BA_3_4_8_M4_HW.ipynb\" target=\"_parent\"><img src=\"https://colab.research.google.com/assets/colab-badge.svg\" alt=\"Open In Colab\"/></a>"
      ]
    },
    {
      "cell_type": "markdown",
      "metadata": {
        "id": "Xzlc3zzs_xIt"
      },
      "source": [
        "<p style=\"align: center;\"><img align=center src=\"https://mailfit.com/wp-content/uploads/2019/11/lego-5.png\"  width=900></p>\n",
        "<h1 style=\"text-align: center;\"><b>«Домашняя работа»</b></h3>\n"
      ]
    },
    {
      "cell_type": "markdown",
      "metadata": {
        "id": "Ec4WbKKI_xIv"
      },
      "source": [
        "## Импорт Библиотек"
      ]
    },
    {
      "cell_type": "code",
      "execution_count": null,
      "metadata": {
        "id": "5O5bBNWv_xIv"
      },
      "outputs": [],
      "source": [
        "import numpy as np\n",
        "import pandas as pd\n",
        "\n",
        "import scipy\n",
        "\n",
        "import matplotlib.pyplot as plt\n",
        "import seaborn as sns\n",
        "sns.set_theme()"
      ]
    },
    {
      "cell_type": "markdown",
      "metadata": {
        "id": "C8z_DKWf_xIw"
      },
      "source": [
        "## Импорт данных"
      ]
    },
    {
      "cell_type": "code",
      "execution_count": null,
      "metadata": {
        "colab": {
          "base_uri": "https://localhost:8080/",
          "height": 286
        },
        "id": "pjlhaQ12_xIw",
        "outputId": "c0af725a-ea52-4779-f356-76ace6d828f2"
      },
      "outputs": [
        {
          "output_type": "stream",
          "name": "stdout",
          "text": [
            "Размеры датасета (6000, 9)\n"
          ]
        },
        {
          "output_type": "execute_result",
          "data": {
            "text/plain": [
              "    was_married  children        salary  sex   age     profession  \\\n",
              "id                                                                  \n",
              "0             1       4.0  4.420530e+07    1  82.0       Engineer   \n",
              "1             1       2.0  1.737490e+08    1  32.0         Doctor   \n",
              "2             1       6.0  2.489055e+08    1  14.0  Entertainment   \n",
              "3             0       1.0  1.268718e+08    0  10.0         Lawyer   \n",
              "4             1       9.0  8.596042e+07    1  99.0         Artist   \n",
              "5             1       3.0  2.474979e+06    0  21.0      Homemaker   \n",
              "\n",
              "       home_cost  drive_info  happyness  \n",
              "id                                       \n",
              "0   1.003674e+07         NaN   0.727499  \n",
              "1   1.014051e+07         0.0   0.383234  \n",
              "2   1.043318e+07         NaN   0.432142  \n",
              "3   1.004299e+07         NaN   0.377987  \n",
              "4   1.021908e+07         NaN   0.657579  \n",
              "5   1.001654e+07         1.0   0.326801  "
            ],
            "text/html": [
              "\n",
              "  <div id=\"df-67d97eec-94f4-45e7-893c-65e8a88af2db\" class=\"colab-df-container\">\n",
              "    <div>\n",
              "<style scoped>\n",
              "    .dataframe tbody tr th:only-of-type {\n",
              "        vertical-align: middle;\n",
              "    }\n",
              "\n",
              "    .dataframe tbody tr th {\n",
              "        vertical-align: top;\n",
              "    }\n",
              "\n",
              "    .dataframe thead th {\n",
              "        text-align: right;\n",
              "    }\n",
              "</style>\n",
              "<table border=\"1\" class=\"dataframe\">\n",
              "  <thead>\n",
              "    <tr style=\"text-align: right;\">\n",
              "      <th></th>\n",
              "      <th>was_married</th>\n",
              "      <th>children</th>\n",
              "      <th>salary</th>\n",
              "      <th>sex</th>\n",
              "      <th>age</th>\n",
              "      <th>profession</th>\n",
              "      <th>home_cost</th>\n",
              "      <th>drive_info</th>\n",
              "      <th>happyness</th>\n",
              "    </tr>\n",
              "    <tr>\n",
              "      <th>id</th>\n",
              "      <th></th>\n",
              "      <th></th>\n",
              "      <th></th>\n",
              "      <th></th>\n",
              "      <th></th>\n",
              "      <th></th>\n",
              "      <th></th>\n",
              "      <th></th>\n",
              "      <th></th>\n",
              "    </tr>\n",
              "  </thead>\n",
              "  <tbody>\n",
              "    <tr>\n",
              "      <th>0</th>\n",
              "      <td>1</td>\n",
              "      <td>4.0</td>\n",
              "      <td>4.420530e+07</td>\n",
              "      <td>1</td>\n",
              "      <td>82.0</td>\n",
              "      <td>Engineer</td>\n",
              "      <td>1.003674e+07</td>\n",
              "      <td>NaN</td>\n",
              "      <td>0.727499</td>\n",
              "    </tr>\n",
              "    <tr>\n",
              "      <th>1</th>\n",
              "      <td>1</td>\n",
              "      <td>2.0</td>\n",
              "      <td>1.737490e+08</td>\n",
              "      <td>1</td>\n",
              "      <td>32.0</td>\n",
              "      <td>Doctor</td>\n",
              "      <td>1.014051e+07</td>\n",
              "      <td>0.0</td>\n",
              "      <td>0.383234</td>\n",
              "    </tr>\n",
              "    <tr>\n",
              "      <th>2</th>\n",
              "      <td>1</td>\n",
              "      <td>6.0</td>\n",
              "      <td>2.489055e+08</td>\n",
              "      <td>1</td>\n",
              "      <td>14.0</td>\n",
              "      <td>Entertainment</td>\n",
              "      <td>1.043318e+07</td>\n",
              "      <td>NaN</td>\n",
              "      <td>0.432142</td>\n",
              "    </tr>\n",
              "    <tr>\n",
              "      <th>3</th>\n",
              "      <td>0</td>\n",
              "      <td>1.0</td>\n",
              "      <td>1.268718e+08</td>\n",
              "      <td>0</td>\n",
              "      <td>10.0</td>\n",
              "      <td>Lawyer</td>\n",
              "      <td>1.004299e+07</td>\n",
              "      <td>NaN</td>\n",
              "      <td>0.377987</td>\n",
              "    </tr>\n",
              "    <tr>\n",
              "      <th>4</th>\n",
              "      <td>1</td>\n",
              "      <td>9.0</td>\n",
              "      <td>8.596042e+07</td>\n",
              "      <td>1</td>\n",
              "      <td>99.0</td>\n",
              "      <td>Artist</td>\n",
              "      <td>1.021908e+07</td>\n",
              "      <td>NaN</td>\n",
              "      <td>0.657579</td>\n",
              "    </tr>\n",
              "    <tr>\n",
              "      <th>5</th>\n",
              "      <td>1</td>\n",
              "      <td>3.0</td>\n",
              "      <td>2.474979e+06</td>\n",
              "      <td>0</td>\n",
              "      <td>21.0</td>\n",
              "      <td>Homemaker</td>\n",
              "      <td>1.001654e+07</td>\n",
              "      <td>1.0</td>\n",
              "      <td>0.326801</td>\n",
              "    </tr>\n",
              "  </tbody>\n",
              "</table>\n",
              "</div>\n",
              "    <div class=\"colab-df-buttons\">\n",
              "\n",
              "  <div class=\"colab-df-container\">\n",
              "    <button class=\"colab-df-convert\" onclick=\"convertToInteractive('df-67d97eec-94f4-45e7-893c-65e8a88af2db')\"\n",
              "            title=\"Convert this dataframe to an interactive table.\"\n",
              "            style=\"display:none;\">\n",
              "\n",
              "  <svg xmlns=\"http://www.w3.org/2000/svg\" height=\"24px\" viewBox=\"0 -960 960 960\">\n",
              "    <path d=\"M120-120v-720h720v720H120Zm60-500h600v-160H180v160Zm220 220h160v-160H400v160Zm0 220h160v-160H400v160ZM180-400h160v-160H180v160Zm440 0h160v-160H620v160ZM180-180h160v-160H180v160Zm440 0h160v-160H620v160Z\"/>\n",
              "  </svg>\n",
              "    </button>\n",
              "\n",
              "  <style>\n",
              "    .colab-df-container {\n",
              "      display:flex;\n",
              "      gap: 12px;\n",
              "    }\n",
              "\n",
              "    .colab-df-convert {\n",
              "      background-color: #E8F0FE;\n",
              "      border: none;\n",
              "      border-radius: 50%;\n",
              "      cursor: pointer;\n",
              "      display: none;\n",
              "      fill: #1967D2;\n",
              "      height: 32px;\n",
              "      padding: 0 0 0 0;\n",
              "      width: 32px;\n",
              "    }\n",
              "\n",
              "    .colab-df-convert:hover {\n",
              "      background-color: #E2EBFA;\n",
              "      box-shadow: 0px 1px 2px rgba(60, 64, 67, 0.3), 0px 1px 3px 1px rgba(60, 64, 67, 0.15);\n",
              "      fill: #174EA6;\n",
              "    }\n",
              "\n",
              "    .colab-df-buttons div {\n",
              "      margin-bottom: 4px;\n",
              "    }\n",
              "\n",
              "    [theme=dark] .colab-df-convert {\n",
              "      background-color: #3B4455;\n",
              "      fill: #D2E3FC;\n",
              "    }\n",
              "\n",
              "    [theme=dark] .colab-df-convert:hover {\n",
              "      background-color: #434B5C;\n",
              "      box-shadow: 0px 1px 3px 1px rgba(0, 0, 0, 0.15);\n",
              "      filter: drop-shadow(0px 1px 2px rgba(0, 0, 0, 0.3));\n",
              "      fill: #FFFFFF;\n",
              "    }\n",
              "  </style>\n",
              "\n",
              "    <script>\n",
              "      const buttonEl =\n",
              "        document.querySelector('#df-67d97eec-94f4-45e7-893c-65e8a88af2db button.colab-df-convert');\n",
              "      buttonEl.style.display =\n",
              "        google.colab.kernel.accessAllowed ? 'block' : 'none';\n",
              "\n",
              "      async function convertToInteractive(key) {\n",
              "        const element = document.querySelector('#df-67d97eec-94f4-45e7-893c-65e8a88af2db');\n",
              "        const dataTable =\n",
              "          await google.colab.kernel.invokeFunction('convertToInteractive',\n",
              "                                                    [key], {});\n",
              "        if (!dataTable) return;\n",
              "\n",
              "        const docLinkHtml = 'Like what you see? Visit the ' +\n",
              "          '<a target=\"_blank\" href=https://colab.research.google.com/notebooks/data_table.ipynb>data table notebook</a>'\n",
              "          + ' to learn more about interactive tables.';\n",
              "        element.innerHTML = '';\n",
              "        dataTable['output_type'] = 'display_data';\n",
              "        await google.colab.output.renderOutput(dataTable, element);\n",
              "        const docLink = document.createElement('div');\n",
              "        docLink.innerHTML = docLinkHtml;\n",
              "        element.appendChild(docLink);\n",
              "      }\n",
              "    </script>\n",
              "  </div>\n",
              "\n",
              "\n",
              "<div id=\"df-7bdbf0b8-3bd0-4a67-8e97-4225ca16f72b\">\n",
              "  <button class=\"colab-df-quickchart\" onclick=\"quickchart('df-7bdbf0b8-3bd0-4a67-8e97-4225ca16f72b')\"\n",
              "            title=\"Suggest charts\"\n",
              "            style=\"display:none;\">\n",
              "\n",
              "<svg xmlns=\"http://www.w3.org/2000/svg\" height=\"24px\"viewBox=\"0 0 24 24\"\n",
              "     width=\"24px\">\n",
              "    <g>\n",
              "        <path d=\"M19 3H5c-1.1 0-2 .9-2 2v14c0 1.1.9 2 2 2h14c1.1 0 2-.9 2-2V5c0-1.1-.9-2-2-2zM9 17H7v-7h2v7zm4 0h-2V7h2v10zm4 0h-2v-4h2v4z\"/>\n",
              "    </g>\n",
              "</svg>\n",
              "  </button>\n",
              "\n",
              "<style>\n",
              "  .colab-df-quickchart {\n",
              "      --bg-color: #E8F0FE;\n",
              "      --fill-color: #1967D2;\n",
              "      --hover-bg-color: #E2EBFA;\n",
              "      --hover-fill-color: #174EA6;\n",
              "      --disabled-fill-color: #AAA;\n",
              "      --disabled-bg-color: #DDD;\n",
              "  }\n",
              "\n",
              "  [theme=dark] .colab-df-quickchart {\n",
              "      --bg-color: #3B4455;\n",
              "      --fill-color: #D2E3FC;\n",
              "      --hover-bg-color: #434B5C;\n",
              "      --hover-fill-color: #FFFFFF;\n",
              "      --disabled-bg-color: #3B4455;\n",
              "      --disabled-fill-color: #666;\n",
              "  }\n",
              "\n",
              "  .colab-df-quickchart {\n",
              "    background-color: var(--bg-color);\n",
              "    border: none;\n",
              "    border-radius: 50%;\n",
              "    cursor: pointer;\n",
              "    display: none;\n",
              "    fill: var(--fill-color);\n",
              "    height: 32px;\n",
              "    padding: 0;\n",
              "    width: 32px;\n",
              "  }\n",
              "\n",
              "  .colab-df-quickchart:hover {\n",
              "    background-color: var(--hover-bg-color);\n",
              "    box-shadow: 0 1px 2px rgba(60, 64, 67, 0.3), 0 1px 3px 1px rgba(60, 64, 67, 0.15);\n",
              "    fill: var(--button-hover-fill-color);\n",
              "  }\n",
              "\n",
              "  .colab-df-quickchart-complete:disabled,\n",
              "  .colab-df-quickchart-complete:disabled:hover {\n",
              "    background-color: var(--disabled-bg-color);\n",
              "    fill: var(--disabled-fill-color);\n",
              "    box-shadow: none;\n",
              "  }\n",
              "\n",
              "  .colab-df-spinner {\n",
              "    border: 2px solid var(--fill-color);\n",
              "    border-color: transparent;\n",
              "    border-bottom-color: var(--fill-color);\n",
              "    animation:\n",
              "      spin 1s steps(1) infinite;\n",
              "  }\n",
              "\n",
              "  @keyframes spin {\n",
              "    0% {\n",
              "      border-color: transparent;\n",
              "      border-bottom-color: var(--fill-color);\n",
              "      border-left-color: var(--fill-color);\n",
              "    }\n",
              "    20% {\n",
              "      border-color: transparent;\n",
              "      border-left-color: var(--fill-color);\n",
              "      border-top-color: var(--fill-color);\n",
              "    }\n",
              "    30% {\n",
              "      border-color: transparent;\n",
              "      border-left-color: var(--fill-color);\n",
              "      border-top-color: var(--fill-color);\n",
              "      border-right-color: var(--fill-color);\n",
              "    }\n",
              "    40% {\n",
              "      border-color: transparent;\n",
              "      border-right-color: var(--fill-color);\n",
              "      border-top-color: var(--fill-color);\n",
              "    }\n",
              "    60% {\n",
              "      border-color: transparent;\n",
              "      border-right-color: var(--fill-color);\n",
              "    }\n",
              "    80% {\n",
              "      border-color: transparent;\n",
              "      border-right-color: var(--fill-color);\n",
              "      border-bottom-color: var(--fill-color);\n",
              "    }\n",
              "    90% {\n",
              "      border-color: transparent;\n",
              "      border-bottom-color: var(--fill-color);\n",
              "    }\n",
              "  }\n",
              "</style>\n",
              "\n",
              "  <script>\n",
              "    async function quickchart(key) {\n",
              "      const quickchartButtonEl =\n",
              "        document.querySelector('#' + key + ' button');\n",
              "      quickchartButtonEl.disabled = true;  // To prevent multiple clicks.\n",
              "      quickchartButtonEl.classList.add('colab-df-spinner');\n",
              "      try {\n",
              "        const charts = await google.colab.kernel.invokeFunction(\n",
              "            'suggestCharts', [key], {});\n",
              "      } catch (error) {\n",
              "        console.error('Error during call to suggestCharts:', error);\n",
              "      }\n",
              "      quickchartButtonEl.classList.remove('colab-df-spinner');\n",
              "      quickchartButtonEl.classList.add('colab-df-quickchart-complete');\n",
              "    }\n",
              "    (() => {\n",
              "      let quickchartButtonEl =\n",
              "        document.querySelector('#df-7bdbf0b8-3bd0-4a67-8e97-4225ca16f72b button');\n",
              "      quickchartButtonEl.style.display =\n",
              "        google.colab.kernel.accessAllowed ? 'block' : 'none';\n",
              "    })();\n",
              "  </script>\n",
              "</div>\n",
              "    </div>\n",
              "  </div>\n"
            ],
            "application/vnd.google.colaboratory.intrinsic+json": {
              "type": "dataframe",
              "variable_name": "data",
              "summary": "{\n  \"name\": \"data\",\n  \"rows\": 6000,\n  \"fields\": [\n    {\n      \"column\": \"id\",\n      \"properties\": {\n        \"dtype\": \"number\",\n        \"std\": 1670,\n        \"min\": 0,\n        \"max\": 5499,\n        \"num_unique_values\": 5500,\n        \"samples\": [\n          4747,\n          1199,\n          5222\n        ],\n        \"semantic_type\": \"\",\n        \"description\": \"\"\n      }\n    },\n    {\n      \"column\": \"was_married\",\n      \"properties\": {\n        \"dtype\": \"number\",\n        \"std\": 0,\n        \"min\": 0,\n        \"max\": 1,\n        \"num_unique_values\": 2,\n        \"samples\": [\n          0,\n          1\n        ],\n        \"semantic_type\": \"\",\n        \"description\": \"\"\n      }\n    },\n    {\n      \"column\": \"children\",\n      \"properties\": {\n        \"dtype\": \"number\",\n        \"std\": 2.8502846628594996,\n        \"min\": 0.0,\n        \"max\": 9.0,\n        \"num_unique_values\": 7,\n        \"samples\": [\n          4.0,\n          2.0\n        ],\n        \"semantic_type\": \"\",\n        \"description\": \"\"\n      }\n    },\n    {\n      \"column\": \"salary\",\n      \"properties\": {\n        \"dtype\": \"number\",\n        \"std\": 80221297.05740301,\n        \"min\": 1765712.353619084,\n        \"max\": 345927135.61149085,\n        \"num_unique_values\": 6000,\n        \"samples\": [\n          2030148.992508214,\n          23526409.701305974\n        ],\n        \"semantic_type\": \"\",\n        \"description\": \"\"\n      }\n    },\n    {\n      \"column\": \"sex\",\n      \"properties\": {\n        \"dtype\": \"number\",\n        \"std\": 0,\n        \"min\": 0,\n        \"max\": 1,\n        \"num_unique_values\": 2,\n        \"samples\": [\n          0,\n          1\n        ],\n        \"semantic_type\": \"\",\n        \"description\": \"\"\n      }\n    },\n    {\n      \"column\": \"age\",\n      \"properties\": {\n        \"dtype\": \"number\",\n        \"std\": 32.54637204478789,\n        \"min\": 2.0,\n        \"max\": 100.0,\n        \"num_unique_values\": 20,\n        \"samples\": [\n          82.0,\n          33.0\n        ],\n        \"semantic_type\": \"\",\n        \"description\": \"\"\n      }\n    },\n    {\n      \"column\": \"profession\",\n      \"properties\": {\n        \"dtype\": \"category\",\n        \"num_unique_values\": 9,\n        \"samples\": [\n          \"Healthcare\",\n          \"Doctor\"\n        ],\n        \"semantic_type\": \"\",\n        \"description\": \"\"\n      }\n    },\n    {\n      \"column\": \"home_cost\",\n      \"properties\": {\n        \"dtype\": \"number\",\n        \"std\": 312006.64268940844,\n        \"min\": 9824378.17956564,\n        \"max\": 20657915.51438855,\n        \"num_unique_values\": 5500,\n        \"samples\": [\n          10142087.622610103,\n          10127959.182073647\n        ],\n        \"semantic_type\": \"\",\n        \"description\": \"\"\n      }\n    },\n    {\n      \"column\": \"drive_info\",\n      \"properties\": {\n        \"dtype\": \"number\",\n        \"std\": 0.4444922555194076,\n        \"min\": 0.0,\n        \"max\": 1.0,\n        \"num_unique_values\": 2,\n        \"samples\": [\n          1.0,\n          0.0\n        ],\n        \"semantic_type\": \"\",\n        \"description\": \"\"\n      }\n    },\n    {\n      \"column\": \"happyness\",\n      \"properties\": {\n        \"dtype\": \"number\",\n        \"std\": 0.15372650797965143,\n        \"min\": 0.0,\n        \"max\": 1.0,\n        \"num_unique_values\": 6000,\n        \"samples\": [\n          0.4489957391292867,\n          0.4275951511826555\n        ],\n        \"semantic_type\": \"\",\n        \"description\": \"\"\n      }\n    }\n  ]\n}"
            }
          },
          "metadata": {},
          "execution_count": 3
        }
      ],
      "source": [
        "data_path = \"https://raw.githubusercontent.com/a-milenkin/mipt_data_science_2021/main/data/people_data_clustering.csv\"\n",
        "data = pd.read_csv(data_path, index_col=0)\n",
        "print(\"Размеры датасета\", data.shape)\n",
        "data.head(6)"
      ]
    },
    {
      "cell_type": "code",
      "source": [],
      "metadata": {
        "id": "6HiYc7IlaLld"
      },
      "execution_count": null,
      "outputs": []
    },
    {
      "cell_type": "markdown",
      "metadata": {
        "id": "tj-36sW-_xIx"
      },
      "source": [
        "<div class=\"alert alert-info\">\n",
        "<b>Про Датасет</b>\n",
        "    \n",
        "Датасет представляет собой информацию по жителям некоторого города.\n",
        "\n",
        "* `was_married` - Был ли когда-либо женат/замужем\n",
        "* `children` - Количество детей\n",
        "* `salary` - Уровень зарплаты\n",
        "* `sex` - Пол (0 - женщина, 1 - мужчина)\n",
        "* `age` - Возраст\n",
        "* `home_cost` - Сумарная стоимость жилья/недвижимости\n",
        "* `Professon` - Профессия\n",
        "* `drive_info` - Есть ли водительские права\n",
        "* `happyness` - уровень счастья по результатам опроса\n",
        "    \n",
        "</div>"
      ]
    },
    {
      "cell_type": "code",
      "execution_count": null,
      "metadata": {
        "id": "9sxlul-o_xIx"
      },
      "outputs": [],
      "source": []
    },
    {
      "cell_type": "markdown",
      "metadata": {
        "id": "MCQV-BBo_xIx"
      },
      "source": [
        "<div class=\"alert alert-info\">\n",
        "<b>Задание</b>\n",
        "\n",
        "Изучить датасет, выполнить задания и проверить некоторые гипотезы, предложенные ниже, используя только визуализацию."
      ]
    },
    {
      "cell_type": "code",
      "execution_count": null,
      "metadata": {
        "id": "w2Yx9Bae_xIx"
      },
      "outputs": [],
      "source": []
    },
    {
      "cell_type": "markdown",
      "metadata": {
        "id": "4MYFUeY9_xIx"
      },
      "source": [
        "# Чистка датасета\n",
        "* Есть ли дубли в данных? Если есть - удалите их (drop_duplicates).\n",
        "* Найти и удалить/отфильтровать выбросы по признаку `home_cost`. Таких точек около 5"
      ]
    },
    {
      "cell_type": "code",
      "execution_count": null,
      "metadata": {
        "colab": {
          "base_uri": "https://localhost:8080/",
          "height": 455
        },
        "id": "j4YdEO-C_xIx",
        "outputId": "1c70d0ab-4459-41f1-8210-784ef7094526"
      },
      "outputs": [
        {
          "output_type": "execute_result",
          "data": {
            "text/plain": [
              "     was_married  children        salary  sex   age     profession  \\\n",
              "id                                                                   \n",
              "0              1       4.0  4.420530e+07    1  82.0       Engineer   \n",
              "1              1       2.0  1.737490e+08    1  32.0         Doctor   \n",
              "2              1       6.0  2.489055e+08    1  14.0  Entertainment   \n",
              "3              0       1.0  1.268718e+08    0  10.0         Lawyer   \n",
              "4              1       9.0  8.596042e+07    1  99.0         Artist   \n",
              "..           ...       ...           ...  ...   ...            ...   \n",
              "495            1       0.0  3.589436e+07    1   3.0      Executive   \n",
              "496            1       3.0  2.454208e+06    0  20.0      Homemaker   \n",
              "497            1       0.0  3.335405e+06    0  17.0     Healthcare   \n",
              "498            0       1.0  2.024255e+08    0  10.0         Lawyer   \n",
              "499            1       3.0  2.274622e+06    0  21.0      Homemaker   \n",
              "\n",
              "        home_cost  drive_info  happyness  \n",
              "id                                        \n",
              "0    1.003674e+07         NaN   0.727499  \n",
              "1    1.014051e+07         0.0   0.383234  \n",
              "2    1.043318e+07         NaN   0.432142  \n",
              "3    1.004299e+07         NaN   0.377987  \n",
              "4    1.021908e+07         NaN   0.657579  \n",
              "..            ...         ...        ...  \n",
              "495  1.007038e+07         1.0   0.599222  \n",
              "496  1.009348e+07         1.0   0.259710  \n",
              "497  1.016696e+07         0.0   0.258779  \n",
              "498  1.025544e+07         NaN   0.212931  \n",
              "499  1.027476e+07         NaN   0.553919  \n",
              "\n",
              "[6000 rows x 9 columns]"
            ],
            "text/html": [
              "\n",
              "  <div id=\"df-3b5dd124-ecdc-4d9e-bb24-e1bbc5fec248\" class=\"colab-df-container\">\n",
              "    <div>\n",
              "<style scoped>\n",
              "    .dataframe tbody tr th:only-of-type {\n",
              "        vertical-align: middle;\n",
              "    }\n",
              "\n",
              "    .dataframe tbody tr th {\n",
              "        vertical-align: top;\n",
              "    }\n",
              "\n",
              "    .dataframe thead th {\n",
              "        text-align: right;\n",
              "    }\n",
              "</style>\n",
              "<table border=\"1\" class=\"dataframe\">\n",
              "  <thead>\n",
              "    <tr style=\"text-align: right;\">\n",
              "      <th></th>\n",
              "      <th>was_married</th>\n",
              "      <th>children</th>\n",
              "      <th>salary</th>\n",
              "      <th>sex</th>\n",
              "      <th>age</th>\n",
              "      <th>profession</th>\n",
              "      <th>home_cost</th>\n",
              "      <th>drive_info</th>\n",
              "      <th>happyness</th>\n",
              "    </tr>\n",
              "    <tr>\n",
              "      <th>id</th>\n",
              "      <th></th>\n",
              "      <th></th>\n",
              "      <th></th>\n",
              "      <th></th>\n",
              "      <th></th>\n",
              "      <th></th>\n",
              "      <th></th>\n",
              "      <th></th>\n",
              "      <th></th>\n",
              "    </tr>\n",
              "  </thead>\n",
              "  <tbody>\n",
              "    <tr>\n",
              "      <th>0</th>\n",
              "      <td>1</td>\n",
              "      <td>4.0</td>\n",
              "      <td>4.420530e+07</td>\n",
              "      <td>1</td>\n",
              "      <td>82.0</td>\n",
              "      <td>Engineer</td>\n",
              "      <td>1.003674e+07</td>\n",
              "      <td>NaN</td>\n",
              "      <td>0.727499</td>\n",
              "    </tr>\n",
              "    <tr>\n",
              "      <th>1</th>\n",
              "      <td>1</td>\n",
              "      <td>2.0</td>\n",
              "      <td>1.737490e+08</td>\n",
              "      <td>1</td>\n",
              "      <td>32.0</td>\n",
              "      <td>Doctor</td>\n",
              "      <td>1.014051e+07</td>\n",
              "      <td>0.0</td>\n",
              "      <td>0.383234</td>\n",
              "    </tr>\n",
              "    <tr>\n",
              "      <th>2</th>\n",
              "      <td>1</td>\n",
              "      <td>6.0</td>\n",
              "      <td>2.489055e+08</td>\n",
              "      <td>1</td>\n",
              "      <td>14.0</td>\n",
              "      <td>Entertainment</td>\n",
              "      <td>1.043318e+07</td>\n",
              "      <td>NaN</td>\n",
              "      <td>0.432142</td>\n",
              "    </tr>\n",
              "    <tr>\n",
              "      <th>3</th>\n",
              "      <td>0</td>\n",
              "      <td>1.0</td>\n",
              "      <td>1.268718e+08</td>\n",
              "      <td>0</td>\n",
              "      <td>10.0</td>\n",
              "      <td>Lawyer</td>\n",
              "      <td>1.004299e+07</td>\n",
              "      <td>NaN</td>\n",
              "      <td>0.377987</td>\n",
              "    </tr>\n",
              "    <tr>\n",
              "      <th>4</th>\n",
              "      <td>1</td>\n",
              "      <td>9.0</td>\n",
              "      <td>8.596042e+07</td>\n",
              "      <td>1</td>\n",
              "      <td>99.0</td>\n",
              "      <td>Artist</td>\n",
              "      <td>1.021908e+07</td>\n",
              "      <td>NaN</td>\n",
              "      <td>0.657579</td>\n",
              "    </tr>\n",
              "    <tr>\n",
              "      <th>...</th>\n",
              "      <td>...</td>\n",
              "      <td>...</td>\n",
              "      <td>...</td>\n",
              "      <td>...</td>\n",
              "      <td>...</td>\n",
              "      <td>...</td>\n",
              "      <td>...</td>\n",
              "      <td>...</td>\n",
              "      <td>...</td>\n",
              "    </tr>\n",
              "    <tr>\n",
              "      <th>495</th>\n",
              "      <td>1</td>\n",
              "      <td>0.0</td>\n",
              "      <td>3.589436e+07</td>\n",
              "      <td>1</td>\n",
              "      <td>3.0</td>\n",
              "      <td>Executive</td>\n",
              "      <td>1.007038e+07</td>\n",
              "      <td>1.0</td>\n",
              "      <td>0.599222</td>\n",
              "    </tr>\n",
              "    <tr>\n",
              "      <th>496</th>\n",
              "      <td>1</td>\n",
              "      <td>3.0</td>\n",
              "      <td>2.454208e+06</td>\n",
              "      <td>0</td>\n",
              "      <td>20.0</td>\n",
              "      <td>Homemaker</td>\n",
              "      <td>1.009348e+07</td>\n",
              "      <td>1.0</td>\n",
              "      <td>0.259710</td>\n",
              "    </tr>\n",
              "    <tr>\n",
              "      <th>497</th>\n",
              "      <td>1</td>\n",
              "      <td>0.0</td>\n",
              "      <td>3.335405e+06</td>\n",
              "      <td>0</td>\n",
              "      <td>17.0</td>\n",
              "      <td>Healthcare</td>\n",
              "      <td>1.016696e+07</td>\n",
              "      <td>0.0</td>\n",
              "      <td>0.258779</td>\n",
              "    </tr>\n",
              "    <tr>\n",
              "      <th>498</th>\n",
              "      <td>0</td>\n",
              "      <td>1.0</td>\n",
              "      <td>2.024255e+08</td>\n",
              "      <td>0</td>\n",
              "      <td>10.0</td>\n",
              "      <td>Lawyer</td>\n",
              "      <td>1.025544e+07</td>\n",
              "      <td>NaN</td>\n",
              "      <td>0.212931</td>\n",
              "    </tr>\n",
              "    <tr>\n",
              "      <th>499</th>\n",
              "      <td>1</td>\n",
              "      <td>3.0</td>\n",
              "      <td>2.274622e+06</td>\n",
              "      <td>0</td>\n",
              "      <td>21.0</td>\n",
              "      <td>Homemaker</td>\n",
              "      <td>1.027476e+07</td>\n",
              "      <td>NaN</td>\n",
              "      <td>0.553919</td>\n",
              "    </tr>\n",
              "  </tbody>\n",
              "</table>\n",
              "<p>6000 rows × 9 columns</p>\n",
              "</div>\n",
              "    <div class=\"colab-df-buttons\">\n",
              "\n",
              "  <div class=\"colab-df-container\">\n",
              "    <button class=\"colab-df-convert\" onclick=\"convertToInteractive('df-3b5dd124-ecdc-4d9e-bb24-e1bbc5fec248')\"\n",
              "            title=\"Convert this dataframe to an interactive table.\"\n",
              "            style=\"display:none;\">\n",
              "\n",
              "  <svg xmlns=\"http://www.w3.org/2000/svg\" height=\"24px\" viewBox=\"0 -960 960 960\">\n",
              "    <path d=\"M120-120v-720h720v720H120Zm60-500h600v-160H180v160Zm220 220h160v-160H400v160Zm0 220h160v-160H400v160ZM180-400h160v-160H180v160Zm440 0h160v-160H620v160ZM180-180h160v-160H180v160Zm440 0h160v-160H620v160Z\"/>\n",
              "  </svg>\n",
              "    </button>\n",
              "\n",
              "  <style>\n",
              "    .colab-df-container {\n",
              "      display:flex;\n",
              "      gap: 12px;\n",
              "    }\n",
              "\n",
              "    .colab-df-convert {\n",
              "      background-color: #E8F0FE;\n",
              "      border: none;\n",
              "      border-radius: 50%;\n",
              "      cursor: pointer;\n",
              "      display: none;\n",
              "      fill: #1967D2;\n",
              "      height: 32px;\n",
              "      padding: 0 0 0 0;\n",
              "      width: 32px;\n",
              "    }\n",
              "\n",
              "    .colab-df-convert:hover {\n",
              "      background-color: #E2EBFA;\n",
              "      box-shadow: 0px 1px 2px rgba(60, 64, 67, 0.3), 0px 1px 3px 1px rgba(60, 64, 67, 0.15);\n",
              "      fill: #174EA6;\n",
              "    }\n",
              "\n",
              "    .colab-df-buttons div {\n",
              "      margin-bottom: 4px;\n",
              "    }\n",
              "\n",
              "    [theme=dark] .colab-df-convert {\n",
              "      background-color: #3B4455;\n",
              "      fill: #D2E3FC;\n",
              "    }\n",
              "\n",
              "    [theme=dark] .colab-df-convert:hover {\n",
              "      background-color: #434B5C;\n",
              "      box-shadow: 0px 1px 3px 1px rgba(0, 0, 0, 0.15);\n",
              "      filter: drop-shadow(0px 1px 2px rgba(0, 0, 0, 0.3));\n",
              "      fill: #FFFFFF;\n",
              "    }\n",
              "  </style>\n",
              "\n",
              "    <script>\n",
              "      const buttonEl =\n",
              "        document.querySelector('#df-3b5dd124-ecdc-4d9e-bb24-e1bbc5fec248 button.colab-df-convert');\n",
              "      buttonEl.style.display =\n",
              "        google.colab.kernel.accessAllowed ? 'block' : 'none';\n",
              "\n",
              "      async function convertToInteractive(key) {\n",
              "        const element = document.querySelector('#df-3b5dd124-ecdc-4d9e-bb24-e1bbc5fec248');\n",
              "        const dataTable =\n",
              "          await google.colab.kernel.invokeFunction('convertToInteractive',\n",
              "                                                    [key], {});\n",
              "        if (!dataTable) return;\n",
              "\n",
              "        const docLinkHtml = 'Like what you see? Visit the ' +\n",
              "          '<a target=\"_blank\" href=https://colab.research.google.com/notebooks/data_table.ipynb>data table notebook</a>'\n",
              "          + ' to learn more about interactive tables.';\n",
              "        element.innerHTML = '';\n",
              "        dataTable['output_type'] = 'display_data';\n",
              "        await google.colab.output.renderOutput(dataTable, element);\n",
              "        const docLink = document.createElement('div');\n",
              "        docLink.innerHTML = docLinkHtml;\n",
              "        element.appendChild(docLink);\n",
              "      }\n",
              "    </script>\n",
              "  </div>\n",
              "\n",
              "\n",
              "<div id=\"df-e904879b-87cd-455a-8ef3-1f21b25e9045\">\n",
              "  <button class=\"colab-df-quickchart\" onclick=\"quickchart('df-e904879b-87cd-455a-8ef3-1f21b25e9045')\"\n",
              "            title=\"Suggest charts\"\n",
              "            style=\"display:none;\">\n",
              "\n",
              "<svg xmlns=\"http://www.w3.org/2000/svg\" height=\"24px\"viewBox=\"0 0 24 24\"\n",
              "     width=\"24px\">\n",
              "    <g>\n",
              "        <path d=\"M19 3H5c-1.1 0-2 .9-2 2v14c0 1.1.9 2 2 2h14c1.1 0 2-.9 2-2V5c0-1.1-.9-2-2-2zM9 17H7v-7h2v7zm4 0h-2V7h2v10zm4 0h-2v-4h2v4z\"/>\n",
              "    </g>\n",
              "</svg>\n",
              "  </button>\n",
              "\n",
              "<style>\n",
              "  .colab-df-quickchart {\n",
              "      --bg-color: #E8F0FE;\n",
              "      --fill-color: #1967D2;\n",
              "      --hover-bg-color: #E2EBFA;\n",
              "      --hover-fill-color: #174EA6;\n",
              "      --disabled-fill-color: #AAA;\n",
              "      --disabled-bg-color: #DDD;\n",
              "  }\n",
              "\n",
              "  [theme=dark] .colab-df-quickchart {\n",
              "      --bg-color: #3B4455;\n",
              "      --fill-color: #D2E3FC;\n",
              "      --hover-bg-color: #434B5C;\n",
              "      --hover-fill-color: #FFFFFF;\n",
              "      --disabled-bg-color: #3B4455;\n",
              "      --disabled-fill-color: #666;\n",
              "  }\n",
              "\n",
              "  .colab-df-quickchart {\n",
              "    background-color: var(--bg-color);\n",
              "    border: none;\n",
              "    border-radius: 50%;\n",
              "    cursor: pointer;\n",
              "    display: none;\n",
              "    fill: var(--fill-color);\n",
              "    height: 32px;\n",
              "    padding: 0;\n",
              "    width: 32px;\n",
              "  }\n",
              "\n",
              "  .colab-df-quickchart:hover {\n",
              "    background-color: var(--hover-bg-color);\n",
              "    box-shadow: 0 1px 2px rgba(60, 64, 67, 0.3), 0 1px 3px 1px rgba(60, 64, 67, 0.15);\n",
              "    fill: var(--button-hover-fill-color);\n",
              "  }\n",
              "\n",
              "  .colab-df-quickchart-complete:disabled,\n",
              "  .colab-df-quickchart-complete:disabled:hover {\n",
              "    background-color: var(--disabled-bg-color);\n",
              "    fill: var(--disabled-fill-color);\n",
              "    box-shadow: none;\n",
              "  }\n",
              "\n",
              "  .colab-df-spinner {\n",
              "    border: 2px solid var(--fill-color);\n",
              "    border-color: transparent;\n",
              "    border-bottom-color: var(--fill-color);\n",
              "    animation:\n",
              "      spin 1s steps(1) infinite;\n",
              "  }\n",
              "\n",
              "  @keyframes spin {\n",
              "    0% {\n",
              "      border-color: transparent;\n",
              "      border-bottom-color: var(--fill-color);\n",
              "      border-left-color: var(--fill-color);\n",
              "    }\n",
              "    20% {\n",
              "      border-color: transparent;\n",
              "      border-left-color: var(--fill-color);\n",
              "      border-top-color: var(--fill-color);\n",
              "    }\n",
              "    30% {\n",
              "      border-color: transparent;\n",
              "      border-left-color: var(--fill-color);\n",
              "      border-top-color: var(--fill-color);\n",
              "      border-right-color: var(--fill-color);\n",
              "    }\n",
              "    40% {\n",
              "      border-color: transparent;\n",
              "      border-right-color: var(--fill-color);\n",
              "      border-top-color: var(--fill-color);\n",
              "    }\n",
              "    60% {\n",
              "      border-color: transparent;\n",
              "      border-right-color: var(--fill-color);\n",
              "    }\n",
              "    80% {\n",
              "      border-color: transparent;\n",
              "      border-right-color: var(--fill-color);\n",
              "      border-bottom-color: var(--fill-color);\n",
              "    }\n",
              "    90% {\n",
              "      border-color: transparent;\n",
              "      border-bottom-color: var(--fill-color);\n",
              "    }\n",
              "  }\n",
              "</style>\n",
              "\n",
              "  <script>\n",
              "    async function quickchart(key) {\n",
              "      const quickchartButtonEl =\n",
              "        document.querySelector('#' + key + ' button');\n",
              "      quickchartButtonEl.disabled = true;  // To prevent multiple clicks.\n",
              "      quickchartButtonEl.classList.add('colab-df-spinner');\n",
              "      try {\n",
              "        const charts = await google.colab.kernel.invokeFunction(\n",
              "            'suggestCharts', [key], {});\n",
              "      } catch (error) {\n",
              "        console.error('Error during call to suggestCharts:', error);\n",
              "      }\n",
              "      quickchartButtonEl.classList.remove('colab-df-spinner');\n",
              "      quickchartButtonEl.classList.add('colab-df-quickchart-complete');\n",
              "    }\n",
              "    (() => {\n",
              "      let quickchartButtonEl =\n",
              "        document.querySelector('#df-e904879b-87cd-455a-8ef3-1f21b25e9045 button');\n",
              "      quickchartButtonEl.style.display =\n",
              "        google.colab.kernel.accessAllowed ? 'block' : 'none';\n",
              "    })();\n",
              "  </script>\n",
              "</div>\n",
              "    </div>\n",
              "  </div>\n"
            ],
            "application/vnd.google.colaboratory.intrinsic+json": {
              "type": "dataframe",
              "summary": "{\n  \"name\": \"data\",\n  \"rows\": 6000,\n  \"fields\": [\n    {\n      \"column\": \"id\",\n      \"properties\": {\n        \"dtype\": \"number\",\n        \"std\": 1670,\n        \"min\": 0,\n        \"max\": 5499,\n        \"num_unique_values\": 5500,\n        \"samples\": [\n          4747,\n          1199,\n          5222\n        ],\n        \"semantic_type\": \"\",\n        \"description\": \"\"\n      }\n    },\n    {\n      \"column\": \"was_married\",\n      \"properties\": {\n        \"dtype\": \"number\",\n        \"std\": 0,\n        \"min\": 0,\n        \"max\": 1,\n        \"num_unique_values\": 2,\n        \"samples\": [\n          0,\n          1\n        ],\n        \"semantic_type\": \"\",\n        \"description\": \"\"\n      }\n    },\n    {\n      \"column\": \"children\",\n      \"properties\": {\n        \"dtype\": \"number\",\n        \"std\": 2.8502846628594996,\n        \"min\": 0.0,\n        \"max\": 9.0,\n        \"num_unique_values\": 7,\n        \"samples\": [\n          4.0,\n          2.0\n        ],\n        \"semantic_type\": \"\",\n        \"description\": \"\"\n      }\n    },\n    {\n      \"column\": \"salary\",\n      \"properties\": {\n        \"dtype\": \"number\",\n        \"std\": 80221297.05740301,\n        \"min\": 1765712.353619084,\n        \"max\": 345927135.61149085,\n        \"num_unique_values\": 6000,\n        \"samples\": [\n          2030148.992508214,\n          23526409.701305974\n        ],\n        \"semantic_type\": \"\",\n        \"description\": \"\"\n      }\n    },\n    {\n      \"column\": \"sex\",\n      \"properties\": {\n        \"dtype\": \"number\",\n        \"std\": 0,\n        \"min\": 0,\n        \"max\": 1,\n        \"num_unique_values\": 2,\n        \"samples\": [\n          0,\n          1\n        ],\n        \"semantic_type\": \"\",\n        \"description\": \"\"\n      }\n    },\n    {\n      \"column\": \"age\",\n      \"properties\": {\n        \"dtype\": \"number\",\n        \"std\": 32.54637204478789,\n        \"min\": 2.0,\n        \"max\": 100.0,\n        \"num_unique_values\": 20,\n        \"samples\": [\n          82.0,\n          33.0\n        ],\n        \"semantic_type\": \"\",\n        \"description\": \"\"\n      }\n    },\n    {\n      \"column\": \"profession\",\n      \"properties\": {\n        \"dtype\": \"category\",\n        \"num_unique_values\": 9,\n        \"samples\": [\n          \"Healthcare\",\n          \"Doctor\"\n        ],\n        \"semantic_type\": \"\",\n        \"description\": \"\"\n      }\n    },\n    {\n      \"column\": \"home_cost\",\n      \"properties\": {\n        \"dtype\": \"number\",\n        \"std\": 312006.64268940844,\n        \"min\": 9824378.17956564,\n        \"max\": 20657915.51438855,\n        \"num_unique_values\": 5500,\n        \"samples\": [\n          10142087.622610103,\n          10127959.182073647\n        ],\n        \"semantic_type\": \"\",\n        \"description\": \"\"\n      }\n    },\n    {\n      \"column\": \"drive_info\",\n      \"properties\": {\n        \"dtype\": \"number\",\n        \"std\": 0.4444922555194076,\n        \"min\": 0.0,\n        \"max\": 1.0,\n        \"num_unique_values\": 2,\n        \"samples\": [\n          1.0,\n          0.0\n        ],\n        \"semantic_type\": \"\",\n        \"description\": \"\"\n      }\n    },\n    {\n      \"column\": \"happyness\",\n      \"properties\": {\n        \"dtype\": \"number\",\n        \"std\": 0.15372650797965143,\n        \"min\": 0.0,\n        \"max\": 1.0,\n        \"num_unique_values\": 6000,\n        \"samples\": [\n          0.4489957391292867,\n          0.4275951511826555\n        ],\n        \"semantic_type\": \"\",\n        \"description\": \"\"\n      }\n    }\n  ]\n}"
            }
          },
          "metadata": {},
          "execution_count": 4
        }
      ],
      "source": [
        "data.drop_duplicates()"
      ]
    },
    {
      "cell_type": "code",
      "source": [
        "data.dropna(subset=['home_cost'], inplace=True)\n",
        "plt.figure(figsize=(8, 6))\n",
        "plt.boxplot(data['home_cost']);"
      ],
      "metadata": {
        "colab": {
          "base_uri": "https://localhost:8080/",
          "height": 543
        },
        "id": "TBsruj6nidAD",
        "outputId": "8542c2d8-dc59-4a50-8fba-502f3658a64d"
      },
      "execution_count": null,
      "outputs": [
        {
          "output_type": "display_data",
          "data": {
            "text/plain": [
              "<Figure size 800x600 with 1 Axes>"
            ],
            "image/png": "[encoded data removed]"
          },
          "metadata": {}
        }
      ]
    },
    {
      "cell_type": "markdown",
      "metadata": {
        "id": "IEueaEan_xIy"
      },
      "source": [
        "# Проверка гипотез"
      ]
    },
    {
      "cell_type": "markdown",
      "metadata": {
        "id": "Kydco2m2_xIy"
      },
      "source": [
        "# Изучение датасета\n",
        "* Какие признаки численные?\n",
        "* Какие признаки категориальные?\n",
        "* Какие признаки имеют нормальное распределение?\n",
        "* Какие признаки бессмысленные?"
      ]
    },
    {
      "cell_type": "code",
      "source": [
        "numerical_features = data.select_dtypes(include=np.number).columns.tolist()\n",
        "print(\"Численные признаки:\")\n",
        "print(numerical_features)"
      ],
      "metadata": {
        "colab": {
          "base_uri": "https://localhost:8080/"
        },
        "id": "aHZTtGEET92_",
        "outputId": "73e87e66-38dc-43f0-8c8b-940a1c5d67f6"
      },
      "execution_count": null,
      "outputs": [
        {
          "output_type": "stream",
          "name": "stdout",
          "text": [
            "Численные признаки:\n",
            "['was_married', 'children', 'salary', 'sex', 'age', 'home_cost', 'drive_info', 'happyness']\n"
          ]
        }
      ]
    },
    {
      "cell_type": "code",
      "source": [
        "categorical_features = data.select_dtypes(exclude=np.number).columns.tolist()\n",
        "print(\"\\nКатегориальные признаки:\")\n",
        "print(categorical_features)"
      ],
      "metadata": {
        "colab": {
          "base_uri": "https://localhost:8080/"
        },
        "id": "YTxv7cYaT9pp",
        "outputId": "08f09fc5-5e4a-40d8-a34a-0850c969ce82"
      },
      "execution_count": null,
      "outputs": [
        {
          "output_type": "stream",
          "name": "stdout",
          "text": [
            "\n",
            "Категориальные признаки:\n",
            "['profession']\n"
          ]
        }
      ]
    },
    {
      "cell_type": "code",
      "source": [
        "from scipy import stats\n",
        "\n",
        "print(\"\\nПроверка на нормальное распределение (Shapiro-Wilk test):\")\n",
        "alpha = 0.05\n",
        "\n",
        "normal_features = []\n",
        "for feature in numerical_features:\n",
        "\n",
        "    if data[feature].isnull().any():\n",
        "        print(f\"Признак '{feature}' содержит пропущенные значения, тест Shapiro-Wilk пропущен.\")\n",
        "        continue\n",
        "\n",
        "    if data[feature].nunique() < 5:\n",
        "        print(f\"Признак '{feature}' имеет слишком мало уникальных значений, тест Shapiro-Wilk пропущен.\")\n",
        "        continue\n",
        "\n",
        "    if len(data[feature]) > 3:\n",
        "        stat, p = stats.shapiro(data[feature])\n",
        "        print(f\"Признак: {feature}, Shapiro-Wilk statistic={stat:.3f}, p-value={p:.3f}\")\n",
        "        if p > alpha:\n",
        "            print(f\"Признак '{feature}' имеет нормальное распределение (не отклоняем H0).\")\n",
        "            normal_features.append(feature)\n",
        "        else:\n",
        "            print(f\"Признак '{feature}' не имеет нормального распределения (отклоняем H0).\")\n",
        "    else:\n",
        "        print(f\"Признак '{feature}' имеет слишком мало данных для теста Shapiro-Wilk.\")\n",
        "\n",
        "print(\"\\nПризнаки с нормальным распределением (на основе Shapiro-Wilk):\")\n",
        "print(normal_features)"
      ],
      "metadata": {
        "colab": {
          "base_uri": "https://localhost:8080/"
        },
        "id": "JDfvm-A6T9aU",
        "outputId": "67f7c010-e1ca-44f5-a297-5bfba41ae03c"
      },
      "execution_count": null,
      "outputs": [
        {
          "output_type": "stream",
          "name": "stdout",
          "text": [
            "\n",
            "Проверка на нормальное распределение (Shapiro-Wilk test):\n",
            "Признак 'was_married' имеет слишком мало уникальных значений, тест Shapiro-Wilk пропущен.\n",
            "Признак: children, Shapiro-Wilk statistic=0.844, p-value=0.000\n",
            "Признак 'children' не имеет нормального распределения (отклоняем H0).\n",
            "Признак: salary, Shapiro-Wilk statistic=0.861, p-value=0.000\n",
            "Признак 'salary' не имеет нормального распределения (отклоняем H0).\n",
            "Признак 'sex' имеет слишком мало уникальных значений, тест Shapiro-Wilk пропущен.\n",
            "Признак: age, Shapiro-Wilk statistic=0.728, p-value=0.000\n",
            "Признак 'age' не имеет нормального распределения (отклоняем H0).\n",
            "Признак: home_cost, Shapiro-Wilk statistic=0.221, p-value=0.000\n",
            "Признак 'home_cost' не имеет нормального распределения (отклоняем H0).\n",
            "Признак 'drive_info' содержит пропущенные значения, тест Shapiro-Wilk пропущен.\n",
            "Признак: happyness, Shapiro-Wilk statistic=0.996, p-value=0.000\n",
            "Признак 'happyness' не имеет нормального распределения (отклоняем H0).\n",
            "\n",
            "Признаки с нормальным распределением (на основе Shapiro-Wilk):\n",
            "[]\n"
          ]
        },
        {
          "output_type": "stream",
          "name": "stderr",
          "text": [
            "/usr/local/lib/python3.11/dist-packages/scipy/stats/_axis_nan_policy.py:573: UserWarning: scipy.stats.shapiro: For N > 5000, computed p-value may not be accurate. Current N is 6000.\n",
            "  res = hypotest_fun_out(*samples, **kwds)\n"
          ]
        }
      ]
    },
    {
      "cell_type": "code",
      "source": [
        "single_value_features = []\n",
        "for feature in data.columns:\n",
        "    if data[feature].nunique(dropna=True) == 1:\n",
        "        single_value_features.append(feature)\n",
        "\n",
        "print(\"\\nПризнаки с одним уникальным значением (потенциально бессмысленные):\")\n",
        "print(single_value_features)\n",
        "\n",
        "print(\"\\nВизуализация распределений численных признаков:\")\n",
        "data[numerical_features].hist(figsize=(15, 10))\n",
        "plt.suptitle(\"Гистограммы численных признаков\", fontsize=16)\n",
        "plt.show()\n",
        "\n",
        "print(\"\\nВизуализация категориальных признаков:\")\n",
        "for feature in categorical_features:\n",
        "    plt.figure(figsize=(8, 6))\n",
        "    sns.countplot(x=feature, data=data)\n",
        "    plt.title(f\"Распределение по признаку: {feature}\")\n",
        "    plt.xticks(rotation=45, ha=\"right\")\n",
        "    plt.show()\n",
        "\n",
        "print(\"\\nПропущенные значения:\")\n",
        "print(data.isnull().sum())"
      ],
      "metadata": {
        "colab": {
          "base_uri": "https://localhost:8080/",
          "height": 1000
        },
        "id": "ZRwI92bRT9IJ",
        "outputId": "003f2ead-7e08-4be8-8203-8ed90598515b"
      },
      "execution_count": null,
      "outputs": [
        {
          "output_type": "stream",
          "name": "stdout",
          "text": [
            "\n",
            "Признаки с одним уникальным значением (потенциально бессмысленные):\n",
            "[]\n",
            "\n",
            "Визуализация распределений численных признаков:\n"
          ]
        },
        {
          "output_type": "display_data",
          "data": {
            "text/plain": [
              "<Figure size 1500x1000 with 9 Axes>"
            ],
            "image/png": "[encoded data removed]"
          },
          "metadata": {}
        },
        {
          "output_type": "stream",
          "name": "stdout",
          "text": [
            "\n",
            "Визуализация категориальных признаков:\n"
          ]
        },
        {
          "output_type": "display_data",
          "data": {
            "text/plain": [
              "<Figure size 800x600 with 1 Axes>"
            ],
            "image/png": "[encoded data removed]"
          },
          "metadata": {}
        },
        {
          "output_type": "stream",
          "name": "stdout",
          "text": [
            "\n",
            "Пропущенные значения:\n",
            "was_married       0\n",
            "children          0\n",
            "salary            0\n",
            "sex               0\n",
            "age               0\n",
            "profession        0\n",
            "home_cost         0\n",
            "drive_info     2770\n",
            "happyness         0\n",
            "dtype: int64\n"
          ]
        }
      ]
    },
    {
      "cell_type": "markdown",
      "metadata": {
        "id": "JHT0cdpe_xIy"
      },
      "source": [
        "<div class=\"alert alert-info\">\n",
        "    \n",
        "Перед вами те же гипотезы, которые были в прошлом домашнем задании. Вы уже научились проверять эти утверждения визуально. Теперь же, помимо визуальной состовляющей вам еще нужно применить подходящий статистический критерий, чтобы окончательно доказать или опровергнуть гипотезы на снове этих данных. В качестве уровня значимости принять 5%"
      ]
    },
    {
      "cell_type": "markdown",
      "metadata": {
        "id": "-h5cgh7g_xIy"
      },
      "source": [
        "* Правда ли женщины в среднем имеют более высокую зарплату, чем мужчины?"
      ]
    },
    {
      "cell_type": "code",
      "execution_count": null,
      "metadata": {
        "id": "zNkQvr1i_xIy",
        "outputId": "c299ee8a-6147-44ba-90fa-7e93b66f8d76"
      },
      "outputs": [
        {
          "data": {
            "text/plain": [
              "MannwhitneyuResult(statistic=2033118.0, pvalue=3.2327873836155033e-217)"
            ]
          },
          "execution_count": 170,
          "metadata": {},
          "output_type": "execute_result"
        },
        {
          "data": {
            "image/png": "[encoded data removed]",
            "text/plain": [
              "<Figure size 405.725x360 with 1 Axes>"
            ]
          },
          "metadata": {},
          "output_type": "display_data"
        }
      ],
      "source": []
    },
    {
      "cell_type": "markdown",
      "metadata": {
        "id": "sAJr-xjZ_xIy"
      },
      "source": [
        "* Правда ли, что инженеры (Engineer) зарабатывают в среднем больше, чем люди из сферы развлечений (Entertainment)?"
      ]
    },
    {
      "cell_type": "code",
      "execution_count": null,
      "metadata": {
        "id": "ksd1_Bmo_xIz",
        "outputId": "b922087e-48a7-4d8a-ed01-6b60bb66f6b7"
      },
      "outputs": [
        {
          "data": {
            "text/plain": [
              "Ttest_indResult(statistic=-100.23327557436038, pvalue=0.0)"
            ]
          },
          "execution_count": 171,
          "metadata": {},
          "output_type": "execute_result"
        },
        {
          "data": {
            "image/png": "[encoded data removed]",
            "text/plain": [
              "<Figure size 468.475x360 with 1 Axes>"
            ]
          },
          "metadata": {},
          "output_type": "display_data"
        }
      ],
      "source": []
    },
    {
      "cell_type": "markdown",
      "metadata": {
        "id": "f_qM-Ccu_xIz"
      },
      "source": [
        "* Правда ли, что те, у кого больше трех детей зарабатывают в среднем больше, чем те, у кого меньше или трое детей?"
      ]
    },
    {
      "cell_type": "code",
      "execution_count": null,
      "metadata": {
        "id": "dxgH7Dz6_xIz",
        "outputId": "82b59a3f-2965-4b19-a407-4a5de23cb028"
      },
      "outputs": [
        {
          "data": {
            "text/plain": [
              "MannwhitneyuResult(statistic=2113600.0, pvalue=1.7204616480546744e-194)"
            ]
          },
          "execution_count": 173,
          "metadata": {},
          "output_type": "execute_result"
        },
        {
          "data": {
            "image/png": "[encoded data removed]",
            "text/plain": [
              "<Figure size 414.975x360 with 1 Axes>"
            ]
          },
          "metadata": {},
          "output_type": "display_data"
        }
      ],
      "source": []
    },
    {
      "cell_type": "markdown",
      "metadata": {
        "id": "kAcs8QiL_xIz"
      },
      "source": [
        "* Правда ли, что дома художники (Artist) живут в домах, которые в среднем дороже или дешевле, чем дома адвокатов (Lawyer)?"
      ]
    },
    {
      "cell_type": "code",
      "execution_count": null,
      "metadata": {
        "id": "aVQAzt5l_xIz",
        "outputId": "d6e65a28-d8a3-4129-cf5e-38b2c34913ba"
      },
      "outputs": [
        {
          "data": {
            "text/plain": [
              "Ttest_indResult(statistic=-10.422866126030229, pvalue=1.6456526985141669e-24)"
            ]
          },
          "execution_count": 178,
          "metadata": {},
          "output_type": "execute_result"
        },
        {
          "data": {
            "image/png": "[encoded data removed]",
            "text/plain": [
              "<Figure size 435.1x360 with 1 Axes>"
            ]
          },
          "metadata": {},
          "output_type": "display_data"
        }
      ],
      "source": []
    },
    {
      "cell_type": "markdown",
      "metadata": {
        "id": "F7zr40wr_xIz"
      },
      "source": [
        "* Правда ли, что недвижимость у тех, кто когда либо был в браке в среднем дороже, чем у тех, кто никогда не был в браке?\n"
      ]
    },
    {
      "cell_type": "code",
      "execution_count": null,
      "metadata": {
        "id": "z1yC-LIU_xIz",
        "outputId": "1ac1cc68-14df-4541-cae1-f04de43c1da2"
      },
      "outputs": [
        {
          "data": {
            "text/plain": [
              "Ttest_indResult(statistic=-28.10532125782135, pvalue=2.2517376196728854e-163)"
            ]
          },
          "execution_count": 177,
          "metadata": {},
          "output_type": "execute_result"
        },
        {
          "data": {
            "image/png": "[encoded data removed]",
            "text/plain": [
              "<Figure size 437.3x360 with 1 Axes>"
            ]
          },
          "metadata": {},
          "output_type": "display_data"
        }
      ],
      "source": []
    },
    {
      "cell_type": "markdown",
      "metadata": {
        "id": "h2uLpol0_xIz"
      },
      "source": [
        "* Правда ли, что мужчины в среднем чаще бывают в браке, чем женщины?\n",
        "\n",
        "**Подсказка** - Составьте матрицу смежности и воспользуйтесь критерием хи-квадрат из библиотеки scipy"
      ]
    },
    {
      "cell_type": "code",
      "execution_count": null,
      "metadata": {
        "id": "FS94taI7_xIz",
        "outputId": "ae6d52db-d798-4b9c-fe11-cc471c363140"
      },
      "outputs": [
        {
          "data": {
            "text/html": [
              "<div>\n",
              "<style scoped>\n",
              "    .dataframe tbody tr th:only-of-type {\n",
              "        vertical-align: middle;\n",
              "    }\n",
              "\n",
              "    .dataframe tbody tr th {\n",
              "        vertical-align: top;\n",
              "    }\n",
              "\n",
              "    .dataframe thead th {\n",
              "        text-align: right;\n",
              "    }\n",
              "</style>\n",
              "<table border=\"1\" class=\"dataframe\">\n",
              "  <thead>\n",
              "    <tr style=\"text-align: right;\">\n",
              "      <th></th>\n",
              "      <th>was</th>\n",
              "      <th>not_was</th>\n",
              "    </tr>\n",
              "    <tr>\n",
              "      <th>sex</th>\n",
              "      <th></th>\n",
              "      <th></th>\n",
              "    </tr>\n",
              "  </thead>\n",
              "  <tbody>\n",
              "    <tr>\n",
              "      <th>0</th>\n",
              "      <td>1358</td>\n",
              "      <td>670</td>\n",
              "    </tr>\n",
              "    <tr>\n",
              "      <th>1</th>\n",
              "      <td>3689</td>\n",
              "      <td>278</td>\n",
              "    </tr>\n",
              "  </tbody>\n",
              "</table>\n",
              "</div>"
            ],
            "text/plain": [
              "      was  not_was\n",
              "sex               \n",
              "0    1358      670\n",
              "1    3689      278"
            ]
          },
          "execution_count": 184,
          "metadata": {},
          "output_type": "execute_result"
        }
      ],
      "source": []
    },
    {
      "cell_type": "markdown",
      "metadata": {
        "id": "MDizM_EK_xIz"
      },
      "source": [
        "Правда ли, что женщины с зарплатой выше медианной в среднем более счастливые, чем мужчины с зарплатой, которая выше средней?"
      ]
    },
    {
      "cell_type": "code",
      "execution_count": null,
      "metadata": {
        "id": "zxUS3OXd_xI0"
      },
      "outputs": [],
      "source": []
    }
  ],
  "metadata": {
    "kernelspec": {
      "display_name": "Python 3",
      "language": "python",
      "name": "python3"
    },
    "language_info": {
      "codemirror_mode": {
        "name": "ipython",
        "version": 3
      },
      "file_extension": ".py",
      "mimetype": "text/x-python",
      "name": "python",
      "nbconvert_exporter": "python",
      "pygments_lexer": "ipython3",
      "version": "3.8.5"
    },
    "toc": {
      "base_numbering": 1,
      "nav_menu": {},
      "number_sections": true,
      "sideBar": true,
      "skip_h1_title": false,
      "title_cell": "Table of Contents",
      "title_sidebar": "Contents",
      "toc_cell": false,
      "toc_position": {},
      "toc_section_display": true,
      "toc_window_display": false
    },
    "colab": {
      "provenance": [],
      "include_colab_link": true
    }
  },
  "nbformat": 4,
  "nbformat_minor": 0
}