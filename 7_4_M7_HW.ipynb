{
  "cells": [
    {
      "cell_type": "markdown",
      "metadata": {
        "id": "view-in-github",
        "colab_type": "text"
      },
      "source": [
        "<a href=\"https://colab.research.google.com/github/arepevanatalia/AB-Testing/blob/main/7_4_M7_HW.ipynb\" target=\"_parent\"><img src=\"https://colab.research.google.com/assets/colab-badge.svg\" alt=\"Open In Colab\"/></a>"
      ]
    },
    {
      "cell_type": "markdown",
      "metadata": {
        "id": "eDU732t_f8uN"
      },
      "source": [
        "<p style=\"align: center;\"><img align=center src=\"https://mailfit.com/wp-content/uploads/2019/11/lego-5.png\"  width=900></p>\n",
        "<h1 style=\"text-align: center;\"><b>«Домашняя работа» - Ускорение тестирования</b></h3>\n"
      ]
    },
    {
      "cell_type": "markdown",
      "metadata": {
        "id": "-v5t2XRTf8uQ"
      },
      "source": [
        "## Импорт библиотек"
      ]
    },
    {
      "cell_type": "code",
      "execution_count": null,
      "metadata": {
        "id": "8oymZcbmf8uR"
      },
      "outputs": [],
      "source": [
        "import numpy as np\n",
        "import pandas as pd\n",
        "\n",
        "import scipy\n",
        "\n",
        "import matplotlib.pyplot as plt\n",
        "import seaborn as sns\n",
        "sns.set_theme()"
      ]
    },
    {
      "cell_type": "markdown",
      "metadata": {
        "id": "iE4Tny0Qf8uS"
      },
      "source": [
        "## Импорт данных"
      ]
    },
    {
      "cell_type": "code",
      "execution_count": null,
      "metadata": {
        "id": "SgfPTZ8rf8uS",
        "outputId": "4bb9bb9c-50e5-40a3-9470-6d38ac25a88b"
      },
      "outputs": [
        {
          "name": "stdout",
          "output_type": "stream",
          "text": [
            "Размеры датасета (50000, 3)\n"
          ]
        },
        {
          "data": {
            "text/html": [
              "<div>\n",
              "<style scoped>\n",
              "    .dataframe tbody tr th:only-of-type {\n",
              "        vertical-align: middle;\n",
              "    }\n",
              "\n",
              "    .dataframe tbody tr th {\n",
              "        vertical-align: top;\n",
              "    }\n",
              "\n",
              "    .dataframe thead th {\n",
              "        text-align: right;\n",
              "    }\n",
              "</style>\n",
              "<table border=\"1\" class=\"dataframe\">\n",
              "  <thead>\n",
              "    <tr style=\"text-align: right;\">\n",
              "      <th></th>\n",
              "      <th>strata</th>\n",
              "      <th>group</th>\n",
              "      <th>metrica</th>\n",
              "    </tr>\n",
              "  </thead>\n",
              "  <tbody>\n",
              "    <tr>\n",
              "      <th>0</th>\n",
              "      <td>11</td>\n",
              "      <td>history</td>\n",
              "      <td>42.631346</td>\n",
              "    </tr>\n",
              "    <tr>\n",
              "      <th>1</th>\n",
              "      <td>6</td>\n",
              "      <td>history</td>\n",
              "      <td>14.844453</td>\n",
              "    </tr>\n",
              "    <tr>\n",
              "      <th>2</th>\n",
              "      <td>4</td>\n",
              "      <td>history</td>\n",
              "      <td>2.362768</td>\n",
              "    </tr>\n",
              "    <tr>\n",
              "      <th>3</th>\n",
              "      <td>37</td>\n",
              "      <td>history</td>\n",
              "      <td>79.494017</td>\n",
              "    </tr>\n",
              "    <tr>\n",
              "      <th>4</th>\n",
              "      <td>18</td>\n",
              "      <td>history</td>\n",
              "      <td>-22.627788</td>\n",
              "    </tr>\n",
              "    <tr>\n",
              "      <th>5</th>\n",
              "      <td>34</td>\n",
              "      <td>history</td>\n",
              "      <td>28.679378</td>\n",
              "    </tr>\n",
              "  </tbody>\n",
              "</table>\n",
              "</div>"
            ],
            "text/plain": [
              "   strata    group    metrica\n",
              "0      11  history  42.631346\n",
              "1       6  history  14.844453\n",
              "2       4  history   2.362768\n",
              "3      37  history  79.494017\n",
              "4      18  history -22.627788\n",
              "5      34  history  28.679378"
            ]
          },
          "execution_count": 22,
          "metadata": {},
          "output_type": "execute_result"
        }
      ],
      "source": [
        "data_path = \"https://raw.githubusercontent.com/a-milenkin/Datasetes_for_Piplines/main/SkillBox/ab_speedup.csv\"\n",
        "data = pd.read_csv(data_path, index_col=0)\n",
        "print(\"Размеры датасета\", data.shape)\n",
        "data.head(6)"
      ]
    },
    {
      "cell_type": "markdown",
      "metadata": {
        "id": "eC_eH0L6f8uT"
      },
      "source": [
        "<div class=\"alert alert-info\">\n",
        "<b>Про Датасет</b>\n",
        "    \n",
        "Датасет представляет собой результаты некоторого А/B-Теста.\n",
        "\n",
        "* `strata` - Некоторая информация по страту (группа), к которой относится пользователь.\n",
        "* `group` - Группа эксперимента - тестовая, контрольная или прошлая история.\n",
        "* `metrica` - Целивая метрика\n",
        "    \n",
        "</div>"
      ]
    },
    {
      "cell_type": "code",
      "execution_count": null,
      "metadata": {
        "id": "9APi_Knmf8uU",
        "outputId": "9584170e-472a-4dff-9124-f31aa567b0a4"
      },
      "outputs": [
        {
          "data": {
            "text/html": [
              "<div>\n",
              "<style scoped>\n",
              "    .dataframe tbody tr th:only-of-type {\n",
              "        vertical-align: middle;\n",
              "    }\n",
              "\n",
              "    .dataframe tbody tr th {\n",
              "        vertical-align: top;\n",
              "    }\n",
              "\n",
              "    .dataframe thead th {\n",
              "        text-align: right;\n",
              "    }\n",
              "</style>\n",
              "<table border=\"1\" class=\"dataframe\">\n",
              "  <thead>\n",
              "    <tr style=\"text-align: right;\">\n",
              "      <th></th>\n",
              "      <th>strata</th>\n",
              "      <th>group</th>\n",
              "      <th>metrica</th>\n",
              "    </tr>\n",
              "  </thead>\n",
              "  <tbody>\n",
              "    <tr>\n",
              "      <th>0</th>\n",
              "      <td>11</td>\n",
              "      <td>history</td>\n",
              "      <td>42.631346</td>\n",
              "    </tr>\n",
              "    <tr>\n",
              "      <th>1</th>\n",
              "      <td>6</td>\n",
              "      <td>history</td>\n",
              "      <td>14.844453</td>\n",
              "    </tr>\n",
              "    <tr>\n",
              "      <th>2</th>\n",
              "      <td>4</td>\n",
              "      <td>history</td>\n",
              "      <td>2.362768</td>\n",
              "    </tr>\n",
              "    <tr>\n",
              "      <th>3</th>\n",
              "      <td>37</td>\n",
              "      <td>history</td>\n",
              "      <td>79.494017</td>\n",
              "    </tr>\n",
              "    <tr>\n",
              "      <th>4</th>\n",
              "      <td>18</td>\n",
              "      <td>history</td>\n",
              "      <td>-22.627788</td>\n",
              "    </tr>\n",
              "  </tbody>\n",
              "</table>\n",
              "</div>"
            ],
            "text/plain": [
              "   strata    group    metrica\n",
              "0      11  history  42.631346\n",
              "1       6  history  14.844453\n",
              "2       4  history   2.362768\n",
              "3      37  history  79.494017\n",
              "4      18  history -22.627788"
            ]
          },
          "execution_count": 41,
          "metadata": {},
          "output_type": "execute_result"
        }
      ],
      "source": [
        ""
      ]
    },
    {
      "cell_type": "markdown",
      "metadata": {
        "id": "tXqp39tkf8uU"
      },
      "source": [
        "<div class=\"alert alert-info\">\n",
        "\n",
        "<b>Задание:</b>    \n",
        "    \n",
        "Найти различие между группами, увеличив чувствительность тестов тремя способами поочередно:\n",
        "* Бутстрап\n",
        "* Стратификация\n",
        "* CUPED\n",
        "    \n",
        "Вспомогательная статья Валерия Бабушкина про стратификацию и CUPED:\n",
        "\n",
        "* habr.com/ru/company/yandex/blog/497804/"
      ]
    },
    {
      "cell_type": "code",
      "execution_count": null,
      "metadata": {
        "id": "KHwI-Eyqf8uU"
      },
      "outputs": [],
      "source": []
    }
  ],
  "metadata": {
    "kernelspec": {
      "display_name": "Python 3",
      "language": "python",
      "name": "python3"
    },
    "language_info": {
      "codemirror_mode": {
        "name": "ipython",
        "version": 3
      },
      "file_extension": ".py",
      "mimetype": "text/x-python",
      "name": "python",
      "nbconvert_exporter": "python",
      "pygments_lexer": "ipython3",
      "version": "3.8.5"
    },
    "toc": {
      "base_numbering": 1,
      "nav_menu": {},
      "number_sections": true,
      "sideBar": true,
      "skip_h1_title": false,
      "title_cell": "Table of Contents",
      "title_sidebar": "Contents",
      "toc_cell": false,
      "toc_position": {},
      "toc_section_display": true,
      "toc_window_display": false
    },
    "colab": {
      "provenance": [],
      "include_colab_link": true
    }
  },
  "nbformat": 4,
  "nbformat_minor": 0
}